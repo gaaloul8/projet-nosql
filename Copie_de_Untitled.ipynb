{
  "cells": [
    {
      "cell_type": "markdown",
      "metadata": {
        "id": "view-in-github",
        "colab_type": "text"
      },
      "source": [
        "<a href=\"https://colab.research.google.com/github/gaaloul8/projet-nosql/blob/main/Copie_de_Untitled.ipynb\" target=\"_parent\"><img src=\"https://colab.research.google.com/assets/colab-badge.svg\" alt=\"Open In Colab\"/></a>"
      ]
    },
    {
      "cell_type": "code",
      "execution_count": null,
      "id": "4e42b4f0-44ab-4c4b-a0d2-8de30a2e186a",
      "metadata": {
        "id": "4e42b4f0-44ab-4c4b-a0d2-8de30a2e186a",
        "outputId": "29711091-0d20-4c25-e9e1-86ed25f9299a"
      },
      "outputs": [
        {
          "name": "stdout",
          "output_type": "stream",
          "text": [
            "Collecting redis\n",
            "  Downloading redis-6.0.0-py3-none-any.whl.metadata (10 kB)\n",
            "Downloading redis-6.0.0-py3-none-any.whl (268 kB)\n",
            "\u001b[2K   \u001b[90m━━━━━━━━━━━━━━━━━━━━━━━━━━━━━━━━━━━━━━━━\u001b[0m \u001b[32m268.9/268.9 kB\u001b[0m \u001b[31m4.2 MB/s\u001b[0m eta \u001b[36m0:00:00\u001b[0m \u001b[36m0:00:01\u001b[0m\n",
            "\u001b[?25hInstalling collected packages: redis\n",
            "Successfully installed redis-6.0.0\n"
          ]
        }
      ],
      "source": [
        "!pip install redis"
      ]
    },
    {
      "cell_type": "code",
      "execution_count": null,
      "id": "2f57f233-bd04-4085-8050-5f765eeb5de3",
      "metadata": {
        "id": "2f57f233-bd04-4085-8050-5f765eeb5de3"
      },
      "outputs": [],
      "source": [
        "import redis\n"
      ]
    },
    {
      "cell_type": "code",
      "execution_count": null,
      "id": "35f3d8bc-82e4-4848-83a7-bafeaff5bb7d",
      "metadata": {
        "id": "35f3d8bc-82e4-4848-83a7-bafeaff5bb7d"
      },
      "outputs": [],
      "source": [
        "r = redis.Redis(host='redis', port=6379, decode_responses=True)\n"
      ]
    },
    {
      "cell_type": "code",
      "execution_count": null,
      "id": "d947a652-13e5-43af-86d9-f95c32f9a0ba",
      "metadata": {
        "id": "d947a652-13e5-43af-86d9-f95c32f9a0ba"
      },
      "outputs": [],
      "source": []
    },
    {
      "cell_type": "code",
      "execution_count": null,
      "id": "080a45c1-763f-4657-a702-49539776390a",
      "metadata": {
        "id": "080a45c1-763f-4657-a702-49539776390a",
        "outputId": "b083a6a4-2320-4fe2-905a-ed6194590e87"
      },
      "outputs": [
        {
          "name": "stdout",
          "output_type": "stream",
          "text": [
            "Acteurs: 1319, Films: 922\n"
          ]
        }
      ],
      "source": [
        "nb_actors = r.keys(\"actor:*\")\n",
        "nb_movies = r.keys(\"movie:*\")\n",
        "print(f\"Acteurs: {len(nb_actors)}, Films: {len(nb_movies)}\")"
      ]
    },
    {
      "cell_type": "code",
      "execution_count": null,
      "id": "769381d5-c8cf-4fc1-b874-68c08402f32e",
      "metadata": {
        "id": "769381d5-c8cf-4fc1-b874-68c08402f32e",
        "outputId": "3b388e68-f58b-49a7-a255-a7cb3e4097dc"
      },
      "outputs": [
        {
          "name": "stdout",
          "output_type": "stream",
          "text": [
            "[['Helen', 'Mirren', '1945'], ['Douglas', 'Henshall', '1965'], ['Embeth', 'Davidtz', '1965'], ['Jason', 'Flemyng', '1966'], ['John', 'Cullum', '1930']]\n"
          ]
        }
      ],
      "source": [
        "actors_before_1980 = []\n",
        "for key in r.scan_iter(\"actor:*\"):\n",
        "    dob = r.hget(key, \"date_of_birth\")\n",
        "    if dob and int(dob) < 1980:\n",
        "        actors_before_1980.append(r.hmget(key, [\"first_name\", \"last_name\", \"date_of_birth\"]))\n",
        "        if len(actors_before_1980) == 5:\n",
        "            break\n",
        "print(actors_before_1980)"
      ]
    },
    {
      "cell_type": "code",
      "execution_count": null,
      "id": "dc6bff2d-3630-483d-9d60-b29e989632a0",
      "metadata": {
        "id": "dc6bff2d-3630-483d-9d60-b29e989632a0",
        "outputId": "6f5b41fe-58eb-4c55-d3e6-175f7cac1411"
      },
      "outputs": [
        {
          "name": "stdout",
          "output_type": "stream",
          "text": [
            "Genre: Biography, Note: 8.1\n"
          ]
        }
      ],
      "source": [
        "for key in r.scan_iter(\"movie:*\"):\n",
        "    if r.hget(key, \"title\") == \"The Imitation Game\":\n",
        "        result = r.hmget(key, [\"genre\", \"rating\"])\n",
        "        print(f\"Genre: {result[0]}, Note: {result[1]}\")"
      ]
    },
    {
      "cell_type": "code",
      "execution_count": null,
      "id": "31302b0e-48fe-498c-9caa-9fadd54819cd",
      "metadata": {
        "id": "31302b0e-48fe-498c-9caa-9fadd54819cd",
        "outputId": "17757c9c-07e6-479a-aa21-2df3febc3c2b"
      },
      "outputs": [
        {
          "name": "stdout",
          "output_type": "stream",
          "text": [
            "[('Boy 9', 9.4), ('Vegas (doc)', 9.4), ('The Shawshank Redemption', 9.3), ('Ween Live in Chicago', 9.2), ('Over Canada: An Aerial Adventure', 9.1)]\n"
          ]
        }
      ],
      "source": [
        "movies = []\n",
        "for key in r.scan_iter(\"movie:*\"):\n",
        "    movies.append((r.hget(key, \"title\"), float(r.hget(key, \"rating\"))))\n",
        "top_5 = sorted(movies, key=lambda x: x[1], reverse=True)[:5]\n",
        "print(top_5)"
      ]
    },
    {
      "cell_type": "code",
      "execution_count": null,
      "id": "73a5c1d1-5940-43fc-bbab-d3fc8f361307",
      "metadata": {
        "id": "73a5c1d1-5940-43fc-bbab-d3fc8f361307",
        "outputId": "1413fdba-7c14-4eb7-f8e9-3ec01b5988be"
      },
      "outputs": [
        {
          "name": "stdout",
          "output_type": "stream",
          "text": [
            "Films avec note > 7.5: 183\n"
          ]
        }
      ],
      "source": [
        "high_rated = sum(1 for key in r.scan_iter(\"movie:*\") if float(r.hget(key, \"rating\")) > 7.5)\n",
        "print(f\"Films avec note > 7.5: {high_rated}\")\n"
      ]
    },
    {
      "cell_type": "code",
      "execution_count": null,
      "id": "89078bdf-07f9-475d-89ca-9a91b0c53027",
      "metadata": {
        "id": "89078bdf-07f9-475d-89ca-9a91b0c53027"
      },
      "outputs": [],
      "source": [
        "for key in r.scan_iter(\"movie:*\"):\n",
        "    if r.hget(key, \"title\") == \"The Imitation Game\":\n",
        "        r.hset(key, \"rating\", 8.5)\n"
      ]
    },
    {
      "cell_type": "code",
      "execution_count": null,
      "id": "2224de21-c8a7-4bae-a6f6-c464d5496693",
      "metadata": {
        "id": "2224de21-c8a7-4bae-a6f6-c464d5496693",
        "outputId": "c7ba6425-85aa-4cdd-c13e-49f06f4b33ad"
      },
      "outputs": [
        {
          "data": {
            "text/plain": [
              "3"
            ]
          },
          "execution_count": 23,
          "metadata": {},
          "output_type": "execute_result"
        }
      ],
      "source": [
        "new_actor_id = len(r.keys(\"actor:*\")) + 1\n",
        "r.hset(f\"actor:{new_actor_id}\", mapping={\n",
        "    \"first_name\": \"Zendaya\",\n",
        "    \"last_name\": \"\",\n",
        "    \"date_of_birth\": 1996\n",
        "})"
      ]
    },
    {
      "cell_type": "code",
      "execution_count": null,
      "id": "aaec175f-7233-45b0-a7c4-f9e154000dd0",
      "metadata": {
        "id": "aaec175f-7233-45b0-a7c4-f9e154000dd0"
      },
      "outputs": [],
      "source": [
        "for key in r.scan_iter(\"movie:*\"):\n",
        "    if r.hget(key, \"title\") == \"The Room\":\n",
        "        r.delete(key)"
      ]
    },
    {
      "cell_type": "code",
      "execution_count": null,
      "id": "7fc1df69-8e12-4f4d-bd0c-45f2932b03ab",
      "metadata": {
        "id": "7fc1df69-8e12-4f4d-bd0c-45f2932b03ab",
        "outputId": "687c1adf-f875-4bb1-908d-bc7f80cad273"
      },
      "outputs": [
        {
          "name": "stdout",
          "output_type": "stream",
          "text": [
            "Nombre d'acteurs avec un nom commençant par 'P': 64\n",
            "\n",
            "Films récents populaires:\n",
            "San Andreas (2015) - Votes: 152249, Note: 6.1\n",
            "The Jungle Book (2016) - Votes: 151342, Note: 7.6\n",
            "Battle Los Angeles (2011) - Votes: 169988, Note: 5.7\n",
            "Ted 2 (2015) - Votes: 123758, Note: 6.4\n",
            "Pitch Perfect 2 (2015) - Votes: 101190, Note: 6.5\n",
            "Whiplash (2014) - Votes: 667323, Note: 8.5\n",
            "Room (2015) - Votes: 182004, Note: 8.2\n",
            "Fifty Shades of Grey (2015) - Votes: 224710, Note: 4.1\n",
            "The Interview (2014) - Votes: 251910, Note: 6.6\n",
            "The Martian (2015) - Votes: 506641, Note: 8.0\n",
            "Dawn of the Planet of the Apes (2014) - Votes: 323652, Note: 7.6\n",
            "Non-Stop (2014) - Votes: 242556, Note: 6.9\n",
            "300: Rise of an Empire (2014) - Votes: 229109, Note: 6.2\n",
            "Need for Speed (2014) - Votes: 139153, Note: 6.5\n",
            "Divergent (2014) - Votes: 412364, Note: 6.7\n",
            "Everest (2015) - Votes: 142142, Note: 7.1\n",
            "Mad Max: Fury Road (2015) - Votes: 578046, Note: 8.1\n",
            "Gone Girl (2014) - Votes: 589116, Note: 8.1\n",
            "Spy (2015) - Votes: 176403, Note: 7.1\n",
            "Spotlight (2015) - Votes: 220052, Note: 8.1\n",
            "Jurassic World (2015) - Votes: 429565, Note: 7.0\n",
            "Neighbors (2014) - Votes: 224378, Note: 6.4\n",
            "10 Cloverfield Lane (2016) - Votes: 149415, Note: 7.3\n",
            "Exodus: Gods and Kings (2014) - Votes: 131331, Note: 6.1\n",
            "The Revenant (2015) - Votes: 441653, Note: 8.1\n",
            "Star Wars: Episode IX - The Rise of Skywalker (2019) - Votes: 295585, Note: 6.7\n",
            "The Amazing Spider-Man 2 (2014) - Votes: 402143, Note: 6.6\n",
            "Zootopia (2016) - Votes: 216939, Note: 8.1\n",
            "Teenage Mutant Ninja Turtles (2014) - Votes: 172213, Note: 5.9\n",
            "Deadpool (2016) - Votes: 533503, Note: 8.1\n",
            "The Fault in Our Stars (2014) - Votes: 256899, Note: 7.8\n",
            "The Big Short (2015) - Votes: 206783, Note: 7.8\n",
            "The Maze Runner (2014) - Votes: 318953, Note: 6.8\n",
            "Tomorrowland (2015) - Votes: 132793, Note: 6.5\n",
            "Spider-Man: Homecoming (2017) - Votes: 473931, Note: 7.4\n",
            "Straight Outta Compton (2015) - Votes: 127258, Note: 7.9\n",
            "The Equalizer (2014) - Votes: 235859, Note: 7.2\n",
            "Sicario (2015) - Votes: 212880, Note: 7.6\n",
            "Ex Machina (2015) - Votes: 304335, Note: 7.7\n",
            "Star Wars: Episode VIII - The Last Jedi (2017) - Votes: 531361, Note: 7.0\n",
            "Captain America: The Winter Soldier (2014) - Votes: 510608, Note: 7.8\n",
            "Focus (2015) - Votes: 155186, Note: 6.6\n",
            "Chappie (2015) - Votes: 177519, Note: 6.9\n",
            "The Imitation Game (2014) - Votes: 489175, Note: 8.5\n",
            "The Drop (2014) - Votes: 109038, Note: 7.1\n",
            "Now You See Me 2 (2016) - Votes: 112664, Note: 6.5\n",
            "The Nice Guys (2016) - Votes: 116011, Note: 7.4\n",
            "Batman v Superman: Dawn of Justice (2016) - Votes: 415255, Note: 6.8\n",
            "Predestination (2014) - Votes: 172521, Note: 7.4\n",
            "Black Mass (2015) - Votes: 123475, Note: 7.0\n",
            "X-Men: Apocalypse (2016) - Votes: 210509, Note: 7.2\n",
            "Inside Out (2015) - Votes: 367848, Note: 8.2\n",
            "X-Men: Days of Future Past (2014) - Votes: 524078, Note: 8.0\n",
            "It Follows (2014) - Votes: 120440, Note: 6.9\n",
            "Birdman or (The Unexpected Virtue of Ignorance) (2014) - Votes: 408054, Note: 7.8\n",
            "22 Jump Street (2014) - Votes: 265037, Note: 7.1\n",
            "Star Wars: Episode VII - The Force Awakens (2015) - Votes: 831843, Note: 7.9\n",
            "Spider-Man: Into the Spider-Verse (2018) - Votes: 302962, Note: 8.4\n",
            "Transformers: Age of Extinction (2014) - Votes: 246318, Note: 5.7\n",
            "Interstellar (2014) - Votes: 961763, Note: 8.6\n",
            "American Sniper (2014) - Votes: 333228, Note: 7.3\n",
            "Jack Ryan: Shadow Recruit (2014) - Votes: 100550, Note: 6.2\n",
            "Minions (2015) - Votes: 148448, Note: 6.4\n",
            "Furious Seven (2015) - Votes: 284316, Note: 7.2\n",
            "Mission: Impossible - Rogue Nation (2015) - Votes: 241599, Note: 7.4\n",
            "The Hunger Games: Mockingjay - Part 2 (2015) - Votes: 179028, Note: 6.6\n",
            "Edge of Tomorrow (2014) - Votes: 443643, Note: 7.9\n",
            "Transcendence (2014) - Votes: 176429, Note: 6.3\n",
            "Fantastic Four (2015) - Votes: 114717, Note: 4.3\n",
            "The Theory of Everything (2014) - Votes: 275057, Note: 7.7\n",
            "Dracula Untold (2014) - Votes: 141759, Note: 6.3\n",
            "Guardians of the Galaxy (2014) - Votes: 704613, Note: 8.1\n",
            "Captain America: Civil War (2016) - Votes: 627228, Note: 7.8\n",
            "Noah (2014) - Votes: 203170, Note: 5.8\n",
            "Big Hero 6 (2014) - Votes: 288143, Note: 7.9\n",
            "Terminator Genisys (2015) - Votes: 194182, Note: 6.5\n",
            "Maze Runner: The Scorch Trials (2015) - Votes: 146153, Note: 6.4\n",
            "1917 (2019) - Votes: 290813, Note: 8.3\n",
            "Star Trek Beyond (2016) - Votes: 111125, Note: 7.2\n",
            "The Hunger Games: Mockingjay - Part 1 (2014) - Votes: 313261, Note: 6.7\n",
            "Last Vegas (2013) - Votes: 124330, Note: 6.6\n",
            "Steve Jobs (2015) - Votes: 102485, Note: 7.2\n",
            "Maleficent (2014) - Votes: 257707, Note: 7.0\n",
            "Guardians of the Galaxy Vol. 2 (2017) - Votes: 531435, Note: 7.6\n",
            "Avengers: Age of Ultron (2015) - Votes: 479512, Note: 7.5\n",
            "Suicide Squad (2016) - Votes: 249658, Note: 6.6\n",
            "Jack Reacher: Never Go Back (2016) - Votes: 130230, Note: 6.1\n",
            "Unbroken (2014) - Votes: 106707, Note: 7.2\n",
            "Southpaw (2015) - Votes: 154514, Note: 7.4\n",
            "The Conjuring 2 (2016) - Votes: 108550, Note: 7.5\n",
            "Spider-Man: Far from Home (2019) - Votes: 269287, Note: 7.5\n",
            "The Hobbit: The Battle of the Five Armies (2014) - Votes: 363557, Note: 7.4\n",
            "The Other Woman (2014) - Votes: 106752, Note: 6.0\n",
            "Insurgent (2015) - Votes: 160386, Note: 6.3\n",
            "Warcraft (2016) - Votes: 154327, Note: 7.1\n",
            "The Intern (2015) - Votes: 142646, Note: 7.2\n",
            "The Grand Budapest Hotel (2014) - Votes: 492158, Note: 8.1\n",
            "The Expendables 3 (2014) - Votes: 130394, Note: 6.1\n",
            "Fury (2014) - Votes: 312068, Note: 7.6\n",
            "The Girl on the Train (2016) - Votes: 160200, Note: 6.5\n",
            "Spectre (2015) - Votes: 287494, Note: 6.8\n",
            "Ant-Man (2015) - Votes: 535953, Note: 7.3\n",
            "The Lego Movie (2014) - Votes: 251297, Note: 7.8\n",
            "Sin City: A Dame to Kill For (2014) - Votes: 114899, Note: 6.5\n",
            "Horrible Bosses 2 (2014) - Votes: 117742, Note: 6.3\n",
            "Iron Man 3 (2013) - Votes: 726152, Note: 7.2\n",
            "A Million Ways to Die in the West (2014) - Votes: 138651, Note: 6.1\n",
            "The Hateful Eight (2015) - Votes: 294908, Note: 7.9\n",
            "Ghostbusters (2016) - Votes: 111399, Note: 5.4\n",
            "Boyhood (2014) - Votes: 272604, Note: 7.9\n",
            "John Wick (2014) - Votes: 503014, Note: 7.4\n",
            "Bridge of Spies (2015) - Votes: 192125, Note: 7.6\n",
            "The Babadook (2014) - Votes: 185189, Note: 6.8\n",
            "Jupiter Ascending (2015) - Votes: 142878, Note: 5.4\n",
            "Hercules (2014) - Votes: 117904, Note: 6.0\n",
            "Creed (2015) - Votes: 157387, Note: 7.7\n",
            "Nightcrawler (2014) - Votes: 304445, Note: 7.9\n",
            "The Judge (2014) - Votes: 140247, Note: 7.4\n",
            "Kingsman: The Secret Service (2014) - Votes: 410076, Note: 7.7\n",
            "Cinderella (2015) - Votes: 107389, Note: 7.0\n",
            "\n",
            "Top films par genre:\n",
            "top_movies_by_genre:N/A: {'title': 'Rock Flashback: California Jam', 'rating': '8.7', 'genre': 'N/A'}\n",
            "top_movies_by_genre:Reality-TV: {'title': 'Come Dine with Me Canada', 'rating': '7.4', 'genre': 'Reality-TV'}\n",
            "top_movies_by_genre:Horror: {'title': 'Split', 'rating': '8.1', 'genre': 'Horror'}\n",
            "top_movies_by_genre:Fantasy: {'title': 'The Lord of the Rings: The Fellowship of the Ring', 'rating': '8.8', 'genre': 'Fantasy'}\n",
            "top_movies_by_genre:Comedy: {'title': 'Pretty Village,Pretty Flame', 'rating': '8.7', 'genre': 'Comedy'}\n",
            "top_movies_by_genre:Sport: {'title': 'The Reason', 'rating': '8.5', 'genre': 'Sport'}\n",
            "top_movies_by_genre:Crime: {'title': 'Pulp Finction', 'rating': '8.9', 'genre': 'Crime'}\n",
            "top_movies_by_genre:Mystery: {'title': \"The Village: Achiara's Secret\", 'rating': '7.3', 'genre': 'Mystery'}\n",
            "top_movies_by_genre:Romance: {'title': 'Barcelona Christmas Night', 'rating': '6.7', 'genre': 'Romance'}\n",
            "top_movies_by_genre:History: {'title': \"Adolf Hitler's Last Appeal to Reason\", 'rating': '8.6', 'genre': 'History'}\n",
            "top_movies_by_genre:News: {'title': 'Canada A.M.', 'rating': '6.1', 'genre': 'News'}\n",
            "top_movies_by_genre:Adventure: {'title': 'Interstellar', 'rating': '8.6', 'genre': 'Adventure'}\n",
            "top_movies_by_genre:Western: {'title': 'Three Guns for Texas', 'rating': '7.0', 'genre': 'Western'}\n",
            "top_movies_by_genre:Music: {'title': 'Shania Up! Live in Chicago', 'rating': '8.6', 'genre': 'Music'}\n",
            "top_movies_by_genre:Animation: {'title': 'Future Boy Conan', 'rating': '8.7', 'genre': 'Animation'}\n",
            "top_movies_by_genre:Family: {'title': 'Sweet 116: The 2001 Seattle Mariners History Making Season', 'rating': '8.6', 'genre': 'Family'}\n",
            "top_movies_by_genre:Talk-Show: {'title': 'Texas Country Reporter', 'rating': '7.0', 'genre': 'Talk-Show'}\n",
            "top_movies_by_genre:Game-Show: {'title': 'Family Feud Canada', 'rating': '6.2', 'genre': 'Game-Show'}\n",
            "top_movies_by_genre:Documentary: {'title': 'Vegas (doc)', 'rating': '9.4', 'genre': 'Documentary'}\n",
            "top_movies_by_genre:Short: {'title': 'Boy 9', 'rating': '9.4', 'genre': 'Short'}\n",
            "top_movies_by_genre:Drama: {'title': 'The Shawshank Redemption', 'rating': '9.3', 'genre': 'Drama'}\n",
            "top_movies_by_genre:Thriller: {'title': 'The Sleep of Reason', 'rating': '6.7', 'genre': 'Thriller'}\n",
            "top_movies_by_genre:Action: {'title': 'Star Wars: Episode V - The Empire Strikes Back', 'rating': '8.7', 'genre': 'Action'}\n",
            "top_movies_by_genre:Musical: {'title': 'A Village Romeo and Juliet', 'rating': '6.6', 'genre': 'Musical'}\n",
            "top_movies_by_genre:Biography: {'title': 'Hacksaw Ridge', 'rating': '8.8', 'genre': 'Biography'}\n"
          ]
        }
      ],
      "source": [
        "import redis\n",
        "\n",
        "# Connexion à Redis\n",
        "r = redis.Redis(host='redis', port=6379, decode_responses=True)\n",
        "\n",
        "# 1. Compter les acteurs avec un nom de famille commençant par \"P\"\n",
        "actor_count = 0\n",
        "actors_with_p = []\n",
        "\n",
        "for key in r.scan_iter(\"actor:*\"):\n",
        "    last_name = r.hget(key, \"last_name\")\n",
        "    if last_name and last_name.startswith(\"P\"):\n",
        "        actor_count += 1\n",
        "        actors_with_p.append(last_name)\n",
        "\n",
        "print(f\"Nombre d'acteurs avec un nom commençant par 'P': {actor_count}\")\n",
        "\n",
        "# 2. Films sortis après 2010 avec plus de 100,000 votes\n",
        "recent_popular_movies = []\n",
        "\n",
        "for key in r.scan_iter(\"movie:*\"):\n",
        "    release_year = r.hget(key, \"release_year\")\n",
        "    votes = r.hget(key, \"votes\")\n",
        "\n",
        "    if release_year and votes:\n",
        "        if int(release_year) > 2010 and int(votes) > 100000:\n",
        "            movie_data = {\n",
        "                'title': r.hget(key, \"title\"),\n",
        "                'release_year': release_year,\n",
        "                'votes': votes,\n",
        "                'rating': r.hget(key, \"rating\")\n",
        "            }\n",
        "            recent_popular_movies.append(movie_data)\n",
        "\n",
        "print(\"\\nFilms récents populaires:\")\n",
        "for movie in recent_popular_movies:\n",
        "    print(f\"{movie['title']} ({movie['release_year']}) - Votes: {movie['votes']}, Note: {movie['rating']}\")\n",
        "\n",
        "# 3. Créer des hashs top_movies_by_genre:<genre> avec le film le mieux noté par genre\n",
        "genre_dict = {}\n",
        "\n",
        "# D'abord collecter tous les films par genre\n",
        "for key in r.scan_iter(\"movie:*\"):\n",
        "    genre = r.hget(key, \"genre\")\n",
        "    rating = r.hget(key, \"rating\")\n",
        "    title = r.hget(key, \"title\")\n",
        "\n",
        "    if genre and rating and title:\n",
        "        if genre not in genre_dict or float(rating) > float(genre_dict[genre]['rating']):\n",
        "            genre_dict[genre] = {\n",
        "                'title': title,\n",
        "                'rating': rating\n",
        "            }\n",
        "\n",
        "# Ensuite créer les hashs Redis\n",
        "for genre, data in genre_dict.items():\n",
        "    r.hset(f\"top_movies_by_genre:{genre}\", mapping={\n",
        "        'title': data['title'],\n",
        "        'rating': data['rating'],\n",
        "        'genre': genre\n",
        "    })\n",
        "\n",
        "# Vérification\n",
        "print(\"\\nTop films par genre:\")\n",
        "for genre_key in r.scan_iter(\"top_movies_by_genre:*\"):\n",
        "    print(f\"{genre_key}: {r.hgetall(genre_key)}\")"
      ]
    },
    {
      "cell_type": "code",
      "execution_count": null,
      "id": "68716119-1e19-498c-a0c5-bfb047c426e9",
      "metadata": {
        "id": "68716119-1e19-498c-a0c5-bfb047c426e9"
      },
      "outputs": [],
      "source": []
    }
  ],
  "metadata": {
    "kernelspec": {
      "display_name": "Python 3 (ipykernel)",
      "language": "python",
      "name": "python3"
    },
    "language_info": {
      "codemirror_mode": {
        "name": "ipython",
        "version": 3
      },
      "file_extension": ".py",
      "mimetype": "text/x-python",
      "name": "python",
      "nbconvert_exporter": "python",
      "pygments_lexer": "ipython3",
      "version": "3.11.6"
    },
    "colab": {
      "provenance": [],
      "toc_visible": true,
      "include_colab_link": true
    }
  },
  "nbformat": 4,
  "nbformat_minor": 5
}